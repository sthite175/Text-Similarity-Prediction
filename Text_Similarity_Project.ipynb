{
 "cells": [
  {
   "cell_type": "markdown",
   "id": "160b0769",
   "metadata": {},
   "source": [
    "## Problem Statement"
   ]
  },
  {
   "cell_type": "raw",
   "id": "2a2fc95e",
   "metadata": {},
   "source": [
    "Dataset (attached with the task): The data contains a pair of paragraphs. These text paragraphs are \n",
    "randomly sampled from a raw dataset. Each pair of sentences may or may not be semantically similar. \n",
    "The candidate is to predict a value between 0-1 indicating the similarity between the pair of text paras. \n",
    "A sample of a similar dataset will be used as test data, therefore it’s crucial to the model solution using \n",
    "provided dataset. \n"
   ]
  },
  {
   "cell_type": "code",
   "execution_count": null,
   "id": "aa1e631e",
   "metadata": {},
   "outputs": [],
   "source": [
    "Part A :\n",
    "Build an algorithm/model that can quantify the degree of similarity between the two text-based on \n",
    "Semantic similarity. Semantic Textual Similarity (STS) assesses the degree to which two sentences are \n",
    "semantically equivalent to each other.\n",
    "1 means highly similar \n",
    "0 means highly dissimilar \n",
    "\n",
    "Part B : \n",
    "Deploy the Algorithm/Model built-in Part A in any cloud service provider. Your final algorithm should be \n",
    "exposed as a Server API Endpoint. In order to test this API make sure you hit a request to the server to \n",
    "get the result as a response to the API. The request-response body should be in the following format: \n",
    "Request body: {“text1”: ”nuclear body seeks new tech .......”, ”text2”: ”terror suspects face arrest ......”} \n",
    "Response body: {“similarity score”: 0.2 }\n",
    "Note: “text1”, “text2”, and “similarity score” keys should be kept as it is, without any change."
   ]
  },
  {
   "cell_type": "code",
   "execution_count": null,
   "id": "f5c6725b",
   "metadata": {},
   "outputs": [],
   "source": []
  },
  {
   "cell_type": "markdown",
   "id": "84526252",
   "metadata": {},
   "source": [
    "## Import Libraries"
   ]
  },
  {
   "cell_type": "code",
   "execution_count": 12,
   "id": "e70a992f",
   "metadata": {},
   "outputs": [],
   "source": [
    "import numpy as np \n",
    "import pandas as pd\n",
    "import matplotlib.pyplot as plt\n",
    "import seaborn as sns\n",
    "\n",
    "from nltk.tokenize import word_tokenize\n",
    "from nltk.corpus import stopwords\n",
    "from string import punctuation\n",
    "from contractions import fix\n",
    "from unidecode import unidecode\n",
    "\n",
    "from nltk.stem import WordNetLemmatizer, LancasterStemmer\n",
    "from sklearn.metrics.pairwise import cosine_similarity\n",
    "from sklearn.feature_extraction.text import TfidfVectorizer, CountVectorizer\n",
    "from nltk.util import ngrams\n",
    "\n",
    "from gensim.models import KeyedVectors, Word2Vec\n",
    "\n",
    "\n",
    "\n",
    "import warnings\n",
    "warnings.filterwarnings('ignore')"
   ]
  },
  {
   "cell_type": "markdown",
   "id": "01bab58b",
   "metadata": {},
   "source": [
    "### Load Data"
   ]
  },
  {
   "cell_type": "code",
   "execution_count": 2,
   "id": "8eb46b9f",
   "metadata": {},
   "outputs": [
    {
     "data": {
      "text/html": [
       "<div>\n",
       "<style scoped>\n",
       "    .dataframe tbody tr th:only-of-type {\n",
       "        vertical-align: middle;\n",
       "    }\n",
       "\n",
       "    .dataframe tbody tr th {\n",
       "        vertical-align: top;\n",
       "    }\n",
       "\n",
       "    .dataframe thead th {\n",
       "        text-align: right;\n",
       "    }\n",
       "</style>\n",
       "<table border=\"1\" class=\"dataframe\">\n",
       "  <thead>\n",
       "    <tr style=\"text-align: right;\">\n",
       "      <th></th>\n",
       "      <th>text1</th>\n",
       "      <th>text2</th>\n",
       "    </tr>\n",
       "  </thead>\n",
       "  <tbody>\n",
       "    <tr>\n",
       "      <th>0</th>\n",
       "      <td>broadband challenges tv viewing the number of ...</td>\n",
       "      <td>gardener wins double in glasgow britain s jaso...</td>\n",
       "    </tr>\n",
       "    <tr>\n",
       "      <th>1</th>\n",
       "      <td>rap boss arrested over drug find rap mogul mar...</td>\n",
       "      <td>amnesty chief laments war failure the lack of ...</td>\n",
       "    </tr>\n",
       "    <tr>\n",
       "      <th>2</th>\n",
       "      <td>player burn-out worries robinson england coach...</td>\n",
       "      <td>hanks greeted at wintry premiere hollywood sta...</td>\n",
       "    </tr>\n",
       "    <tr>\n",
       "      <th>3</th>\n",
       "      <td>hearts of oak 3-2 cotonsport hearts of oak set...</td>\n",
       "      <td>redford s vision of sundance despite sporting ...</td>\n",
       "    </tr>\n",
       "    <tr>\n",
       "      <th>4</th>\n",
       "      <td>sir paul rocks super bowl crowds sir paul mcca...</td>\n",
       "      <td>mauresmo opens with victory in la amelie maure...</td>\n",
       "    </tr>\n",
       "    <tr>\n",
       "      <th>...</th>\n",
       "      <td>...</td>\n",
       "      <td>...</td>\n",
       "    </tr>\n",
       "    <tr>\n",
       "      <th>2995</th>\n",
       "      <td>uk directors guild nominees named martin scors...</td>\n",
       "      <td>steel firm  to cut  45 000 jobs mittal steel  ...</td>\n",
       "    </tr>\n",
       "    <tr>\n",
       "      <th>2996</th>\n",
       "      <td>u2 to play at grammy awards show irish rock ba...</td>\n",
       "      <td>israel looks to us for bank chief israel has a...</td>\n",
       "    </tr>\n",
       "    <tr>\n",
       "      <th>2997</th>\n",
       "      <td>pountney handed ban and fine northampton coach...</td>\n",
       "      <td>india and iran in gas export deal india has si...</td>\n",
       "    </tr>\n",
       "    <tr>\n",
       "      <th>2998</th>\n",
       "      <td>belle named  best scottish band  belle &amp; sebas...</td>\n",
       "      <td>mido makes third apology ahmed  mido  hossam h...</td>\n",
       "    </tr>\n",
       "    <tr>\n",
       "      <th>2999</th>\n",
       "      <td>criminal probe on citigroup deals traders at u...</td>\n",
       "      <td>former ni minister scott dies former northern ...</td>\n",
       "    </tr>\n",
       "  </tbody>\n",
       "</table>\n",
       "<p>3000 rows × 2 columns</p>\n",
       "</div>"
      ],
      "text/plain": [
       "                                                  text1  \\\n",
       "0     broadband challenges tv viewing the number of ...   \n",
       "1     rap boss arrested over drug find rap mogul mar...   \n",
       "2     player burn-out worries robinson england coach...   \n",
       "3     hearts of oak 3-2 cotonsport hearts of oak set...   \n",
       "4     sir paul rocks super bowl crowds sir paul mcca...   \n",
       "...                                                 ...   \n",
       "2995  uk directors guild nominees named martin scors...   \n",
       "2996  u2 to play at grammy awards show irish rock ba...   \n",
       "2997  pountney handed ban and fine northampton coach...   \n",
       "2998  belle named  best scottish band  belle & sebas...   \n",
       "2999  criminal probe on citigroup deals traders at u...   \n",
       "\n",
       "                                                  text2  \n",
       "0     gardener wins double in glasgow britain s jaso...  \n",
       "1     amnesty chief laments war failure the lack of ...  \n",
       "2     hanks greeted at wintry premiere hollywood sta...  \n",
       "3     redford s vision of sundance despite sporting ...  \n",
       "4     mauresmo opens with victory in la amelie maure...  \n",
       "...                                                 ...  \n",
       "2995  steel firm  to cut  45 000 jobs mittal steel  ...  \n",
       "2996  israel looks to us for bank chief israel has a...  \n",
       "2997  india and iran in gas export deal india has si...  \n",
       "2998  mido makes third apology ahmed  mido  hossam h...  \n",
       "2999  former ni minister scott dies former northern ...  \n",
       "\n",
       "[3000 rows x 2 columns]"
      ]
     },
     "execution_count": 2,
     "metadata": {},
     "output_type": "execute_result"
    }
   ],
   "source": [
    "df = pd.read_csv(\"DataNeuron_Text_Similarity.csv\")\n",
    "df"
   ]
  },
  {
   "cell_type": "code",
   "execution_count": 4,
   "id": "ad48d0a5",
   "metadata": {},
   "outputs": [
    {
     "name": "stdout",
     "output_type": "stream",
     "text": [
      "<class 'pandas.core.frame.DataFrame'>\n",
      "RangeIndex: 3000 entries, 0 to 2999\n",
      "Data columns (total 2 columns):\n",
      " #   Column  Non-Null Count  Dtype \n",
      "---  ------  --------------  ----- \n",
      " 0   text1   3000 non-null   object\n",
      " 1   text2   3000 non-null   object\n",
      "dtypes: object(2)\n",
      "memory usage: 47.0+ KB\n"
     ]
    }
   ],
   "source": [
    "df.info()"
   ]
  },
  {
   "cell_type": "code",
   "execution_count": 5,
   "id": "ec6ae1cd",
   "metadata": {},
   "outputs": [
    {
     "data": {
      "text/plain": [
       "'broadband challenges tv viewing the number of europeans with broadband has exploded over the past 12 months  with the web eating into tv viewing habits  research suggests.  just over 54 million people are hooked up to the net via broadband  up from 34 million a year ago  according to market analysts nielsen/netratings. the total number of people online in europe has broken the 100 million mark. the popularity of the net has meant that many are turning away from tv  say analysts jupiter research. it found that a quarter of web users said they spent less time watching tv in favour of the net  the report by nielsen/netratings found that the number of people with fast internet access had risen by 60% over the past year.  the biggest jump was in italy  where it rose by 120%. britain was close behind  with broadband users almost doubling in a year. the growth has been fuelled by lower prices and a wider choice of always-on  fast-net subscription plans.  twelve months ago high speed internet users made up just over one third of the audience in europe; now they are more than 50% and we expect this number to keep growing   said gabrielle prior  nielsen/netratings analyst.  as the number of high-speed surfers grows  websites will need to adapt  update and enhance their content to retain their visitors and encourage new ones.  the total number of europeans online rose by 12% to 100 million over the past year  the report showed  with the biggest rise in france  italy  britain and germany.  the ability to browse web pages at high speed  download files such as music or films and play online games is changing what people do in their spare time.  a study by analysts jupiter research suggested that broadband was challenging television viewing habits. in homes with broadband  40% said they were spending less time watching tv. the threat to tv was greatest in countries where broadband was on the up  in particular the uk  france and spain  said the report. it said tv companies faced a major long-term threat over the next five years  with broadband predicted to grow from 19% to 37% of households by 2009.  year-on-year we are continuing to see a seismic shift in where  when and how europe s population consume media for information and entertainment and this has big implications for tv  newspaper and radio   said jupiter research analyst olivier beauvillian.'"
      ]
     },
     "execution_count": 5,
     "metadata": {},
     "output_type": "execute_result"
    }
   ],
   "source": [
    "df['text1'][0]"
   ]
  },
  {
   "cell_type": "code",
   "execution_count": 6,
   "id": "78bea280",
   "metadata": {},
   "outputs": [
    {
     "data": {
      "text/plain": [
       "'gardener wins double in glasgow britain s jason gardener enjoyed a double 60m success in glasgow in his first competitive outing since he won 100m relay gold at the athens olympics.  gardener cruised home ahead of scot nick smith to win the invitational race at the norwich union international. he then recovered from a poor start in the second race to beat swede daniel persson and italy s luca verdecchia. his times of 6.61 and 6.62 seconds were well short of american maurice greene s 60m world record of 6.39secs from 1998.  it s a very hard record to break  but i believe i ve trained very well   said the world indoor champion  who hopes to get closer to the mark this season.  it was important to come out and make sure i got maximum points. my last race was the olympic final and there was a lot of expectation.  this was just what i needed to sharpen up and get some race fitness. i m very excited about the next couple of months.   double olympic champion  marked her first appearance on home soil since winning 1500m and 800m gold in athens with a victory. there was a third success for britain when  edged out russia s olga fedorova and sweden s jenny kallur to win the women s 60m race in 7.23secs. maduaka was unable to repeat the feat in the 200m  finishing down in fourth as  took the win for russia. and the 31-year-old also missed out on a podium place in the 4x200m relay as the british quartet came in fourth  with russia setting a new world indoor record. there was a setback for jade johnson as she suffered a recurrence of her back injury in the long jump. russia won the meeting with a final total of 63 points  with britain second on 48 and france one point behind in third.  led the way for russia by producing a major shock in the high jump as he beat olympic champion stefan holm into second place to end the swede s 22-event unbeaten record.  won the triple jump with a leap of 16.87m  with britain s tosin oke fourth in 15.80m.  won the men s pole vault competition with a clearance of 5.65m  with britain s nick buckfield 51cm adrift of his personal best in third. and  won the women s 800m  with britain s jenny meadows third. there was yet another russian victory in the women s 400m as  finished well clear of britain s catherine murphy. chris lambert had to settle for fourth after fading in the closing stages of the men s 200m race as sweden s  held off leslie djhone of france. france s  won the men s 400m  with brett rund fourth for britain.  took victory for sweden in the women s 60m hurdles ahead of russia s irina shevchenko and britain s sarah claxton  who set a new personal best. italy grabbed their first victory in the men s 1500m as  kicked over the last 200 metres to hold off britain s james thie and france s alexis abraham. a botched changeover in the 4x200m relay cost britain s men the chance to add further points as france claimed victory.'"
      ]
     },
     "execution_count": 6,
     "metadata": {},
     "output_type": "execute_result"
    }
   ],
   "source": [
    "df['text2'][0]"
   ]
  },
  {
   "cell_type": "code",
   "execution_count": null,
   "id": "059ba142",
   "metadata": {},
   "outputs": [],
   "source": []
  },
  {
   "cell_type": "code",
   "execution_count": null,
   "id": "4db54292",
   "metadata": {},
   "outputs": [],
   "source": []
  },
  {
   "cell_type": "markdown",
   "id": "fe8beedc",
   "metadata": {},
   "source": [
    "## Data Preprocessing "
   ]
  },
  {
   "cell_type": "code",
   "execution_count": 3,
   "id": "7c988d6e",
   "metadata": {},
   "outputs": [],
   "source": [
    "def remove_blank(data):\n",
    "    clean_text = data.replace(\"\\\\n\",\" \").replace(\"\\t\",\" \")\n",
    "    return clean_text\n",
    "\n",
    "def expand_text(data):\n",
    "    clean_text = fix(data)\n",
    "    return clean_text\n",
    "\n",
    "stopword_list = stopwords.words(\"english\")\n",
    "stopword_list.remove(\"no\")\n",
    "stopword_list.remove(\"nor\")\n",
    "stopword_list.remove(\"not\")\n",
    "\n",
    "def clean_text(data):\n",
    "    tokens = word_tokenize(data)\n",
    "    clean_data = [word.lower() for word in tokens if (word.lower() not in punctuation) and (word.lower() not in stopword_list) and ( len(word)>2) and (word.isalpha()) ]\n",
    "    return clean_data\n",
    "\n",
    "def lemmatization(data):\n",
    "    lemmatizer = WordNetLemmatizer()\n",
    "    final_text = []\n",
    "    for word in data:\n",
    "        lemmatized_word = lemmatizer.lemmatize(word)\n",
    "        final_text.append(lemmatized_word)\n",
    "    return final_text#\" \".join(final_text)\n"
   ]
  },
  {
   "cell_type": "code",
   "execution_count": null,
   "id": "e08b36a2",
   "metadata": {},
   "outputs": [],
   "source": []
  },
  {
   "cell_type": "code",
   "execution_count": 7,
   "id": "cb58794c",
   "metadata": {},
   "outputs": [
    {
     "data": {
      "text/html": [
       "<div>\n",
       "<style scoped>\n",
       "    .dataframe tbody tr th:only-of-type {\n",
       "        vertical-align: middle;\n",
       "    }\n",
       "\n",
       "    .dataframe tbody tr th {\n",
       "        vertical-align: top;\n",
       "    }\n",
       "\n",
       "    .dataframe thead th {\n",
       "        text-align: right;\n",
       "    }\n",
       "</style>\n",
       "<table border=\"1\" class=\"dataframe\">\n",
       "  <thead>\n",
       "    <tr style=\"text-align: right;\">\n",
       "      <th></th>\n",
       "      <th>text1</th>\n",
       "      <th>text2</th>\n",
       "      <th>Token_text1</th>\n",
       "      <th>Token_text2</th>\n",
       "    </tr>\n",
       "  </thead>\n",
       "  <tbody>\n",
       "    <tr>\n",
       "      <th>0</th>\n",
       "      <td>broadband challenges tv viewing the number of ...</td>\n",
       "      <td>gardener wins double in glasgow britain s jaso...</td>\n",
       "      <td>[broadband, challenge, viewing, number, europe...</td>\n",
       "      <td>[gardener, win, double, glasgow, britain, jaso...</td>\n",
       "    </tr>\n",
       "    <tr>\n",
       "      <th>1</th>\n",
       "      <td>rap boss arrested over drug find rap mogul mar...</td>\n",
       "      <td>amnesty chief laments war failure the lack of ...</td>\n",
       "      <td>[rap, bos, arrested, drug, find, rap, mogul, m...</td>\n",
       "      <td>[amnesty, chief, lament, war, failure, lack, p...</td>\n",
       "    </tr>\n",
       "    <tr>\n",
       "      <th>2</th>\n",
       "      <td>player burn-out worries robinson england coach...</td>\n",
       "      <td>hanks greeted at wintry premiere hollywood sta...</td>\n",
       "      <td>[player, worry, robinson, england, coach, andy...</td>\n",
       "      <td>[hank, greeted, wintry, premiere, hollywood, s...</td>\n",
       "    </tr>\n",
       "    <tr>\n",
       "      <th>3</th>\n",
       "      <td>hearts of oak 3-2 cotonsport hearts of oak set...</td>\n",
       "      <td>redford s vision of sundance despite sporting ...</td>\n",
       "      <td>[heart, oak, cotonsport, heart, oak, set, ghan...</td>\n",
       "      <td>[redford, vision, sundance, despite, sporting,...</td>\n",
       "    </tr>\n",
       "    <tr>\n",
       "      <th>4</th>\n",
       "      <td>sir paul rocks super bowl crowds sir paul mcca...</td>\n",
       "      <td>mauresmo opens with victory in la amelie maure...</td>\n",
       "      <td>[sir, paul, rock, super, bowl, crowd, sir, pau...</td>\n",
       "      <td>[mauresmo, open, victory, amelie, mauresmo, ma...</td>\n",
       "    </tr>\n",
       "    <tr>\n",
       "      <th>...</th>\n",
       "      <td>...</td>\n",
       "      <td>...</td>\n",
       "      <td>...</td>\n",
       "      <td>...</td>\n",
       "    </tr>\n",
       "    <tr>\n",
       "      <th>2995</th>\n",
       "      <td>uk directors guild nominees named martin scors...</td>\n",
       "      <td>steel firm  to cut  45 000 jobs mittal steel  ...</td>\n",
       "      <td>[director, guild, nominee, named, martin, scor...</td>\n",
       "      <td>[steel, firm, cut, job, mittal, steel, one, wo...</td>\n",
       "    </tr>\n",
       "    <tr>\n",
       "      <th>2996</th>\n",
       "      <td>u2 to play at grammy awards show irish rock ba...</td>\n",
       "      <td>israel looks to us for bank chief israel has a...</td>\n",
       "      <td>[play, grammy, award, show, irish, rock, band,...</td>\n",
       "      <td>[israel, look, bank, chief, israel, asked, ban...</td>\n",
       "    </tr>\n",
       "    <tr>\n",
       "      <th>2997</th>\n",
       "      <td>pountney handed ban and fine northampton coach...</td>\n",
       "      <td>india and iran in gas export deal india has si...</td>\n",
       "      <td>[pountney, handed, ban, fine, northampton, coa...</td>\n",
       "      <td>[india, iran, gas, export, deal, india, signed...</td>\n",
       "    </tr>\n",
       "    <tr>\n",
       "      <th>2998</th>\n",
       "      <td>belle named  best scottish band  belle &amp; sebas...</td>\n",
       "      <td>mido makes third apology ahmed  mido  hossam h...</td>\n",
       "      <td>[belle, named, best, scottish, band, belle, se...</td>\n",
       "      <td>[mido, make, third, apology, ahmed, mido, hoss...</td>\n",
       "    </tr>\n",
       "    <tr>\n",
       "      <th>2999</th>\n",
       "      <td>criminal probe on citigroup deals traders at u...</td>\n",
       "      <td>former ni minister scott dies former northern ...</td>\n",
       "      <td>[criminal, probe, citigroup, deal, trader, ban...</td>\n",
       "      <td>[former, minister, scott, dy, former, northern...</td>\n",
       "    </tr>\n",
       "  </tbody>\n",
       "</table>\n",
       "<p>3000 rows × 4 columns</p>\n",
       "</div>"
      ],
      "text/plain": [
       "                                                  text1  \\\n",
       "0     broadband challenges tv viewing the number of ...   \n",
       "1     rap boss arrested over drug find rap mogul mar...   \n",
       "2     player burn-out worries robinson england coach...   \n",
       "3     hearts of oak 3-2 cotonsport hearts of oak set...   \n",
       "4     sir paul rocks super bowl crowds sir paul mcca...   \n",
       "...                                                 ...   \n",
       "2995  uk directors guild nominees named martin scors...   \n",
       "2996  u2 to play at grammy awards show irish rock ba...   \n",
       "2997  pountney handed ban and fine northampton coach...   \n",
       "2998  belle named  best scottish band  belle & sebas...   \n",
       "2999  criminal probe on citigroup deals traders at u...   \n",
       "\n",
       "                                                  text2  \\\n",
       "0     gardener wins double in glasgow britain s jaso...   \n",
       "1     amnesty chief laments war failure the lack of ...   \n",
       "2     hanks greeted at wintry premiere hollywood sta...   \n",
       "3     redford s vision of sundance despite sporting ...   \n",
       "4     mauresmo opens with victory in la amelie maure...   \n",
       "...                                                 ...   \n",
       "2995  steel firm  to cut  45 000 jobs mittal steel  ...   \n",
       "2996  israel looks to us for bank chief israel has a...   \n",
       "2997  india and iran in gas export deal india has si...   \n",
       "2998  mido makes third apology ahmed  mido  hossam h...   \n",
       "2999  former ni minister scott dies former northern ...   \n",
       "\n",
       "                                            Token_text1  \\\n",
       "0     [broadband, challenge, viewing, number, europe...   \n",
       "1     [rap, bos, arrested, drug, find, rap, mogul, m...   \n",
       "2     [player, worry, robinson, england, coach, andy...   \n",
       "3     [heart, oak, cotonsport, heart, oak, set, ghan...   \n",
       "4     [sir, paul, rock, super, bowl, crowd, sir, pau...   \n",
       "...                                                 ...   \n",
       "2995  [director, guild, nominee, named, martin, scor...   \n",
       "2996  [play, grammy, award, show, irish, rock, band,...   \n",
       "2997  [pountney, handed, ban, fine, northampton, coa...   \n",
       "2998  [belle, named, best, scottish, band, belle, se...   \n",
       "2999  [criminal, probe, citigroup, deal, trader, ban...   \n",
       "\n",
       "                                            Token_text2  \n",
       "0     [gardener, win, double, glasgow, britain, jaso...  \n",
       "1     [amnesty, chief, lament, war, failure, lack, p...  \n",
       "2     [hank, greeted, wintry, premiere, hollywood, s...  \n",
       "3     [redford, vision, sundance, despite, sporting,...  \n",
       "4     [mauresmo, open, victory, amelie, mauresmo, ma...  \n",
       "...                                                 ...  \n",
       "2995  [steel, firm, cut, job, mittal, steel, one, wo...  \n",
       "2996  [israel, look, bank, chief, israel, asked, ban...  \n",
       "2997  [india, iran, gas, export, deal, india, signed...  \n",
       "2998  [mido, make, third, apology, ahmed, mido, hoss...  \n",
       "2999  [former, minister, scott, dy, former, northern...  \n",
       "\n",
       "[3000 rows x 4 columns]"
      ]
     },
     "execution_count": 7,
     "metadata": {},
     "output_type": "execute_result"
    }
   ],
   "source": [
    "df['Token_text1'] = df['text1'].apply(remove_blank)\n",
    "df['Token_text1'] = df['Token_text1'].apply(expand_text)\n",
    "df['Token_text1'] = df['Token_text1'].apply(clean_text)\n",
    "df['Token_text1'] = df['Token_text1'].apply(lemmatization)\n",
    "\n",
    "\n",
    "df['Token_text2'] = df['text2'].apply(remove_blank)\n",
    "df['Token_text2'] = df['Token_text2'].apply(expand_text)\n",
    "df['Token_text2'] = df['Token_text2'].apply(clean_text)\n",
    "df['Token_text2'] = df['Token_text2'].apply(lemmatization)\n",
    "\n",
    "\n",
    "df"
   ]
  },
  {
   "cell_type": "code",
   "execution_count": 8,
   "id": "9a23351e",
   "metadata": {},
   "outputs": [
    {
     "data": {
      "text/html": [
       "<div>\n",
       "<style scoped>\n",
       "    .dataframe tbody tr th:only-of-type {\n",
       "        vertical-align: middle;\n",
       "    }\n",
       "\n",
       "    .dataframe tbody tr th {\n",
       "        vertical-align: top;\n",
       "    }\n",
       "\n",
       "    .dataframe thead th {\n",
       "        text-align: right;\n",
       "    }\n",
       "</style>\n",
       "<table border=\"1\" class=\"dataframe\">\n",
       "  <thead>\n",
       "    <tr style=\"text-align: right;\">\n",
       "      <th></th>\n",
       "      <th>text1</th>\n",
       "      <th>text2</th>\n",
       "      <th>Token_text1</th>\n",
       "      <th>Token_text2</th>\n",
       "      <th>Token_len_Text1</th>\n",
       "      <th>Token_len_Text2</th>\n",
       "    </tr>\n",
       "  </thead>\n",
       "  <tbody>\n",
       "    <tr>\n",
       "      <th>0</th>\n",
       "      <td>broadband challenges tv viewing the number of ...</td>\n",
       "      <td>gardener wins double in glasgow britain s jaso...</td>\n",
       "      <td>[broadband, challenge, viewing, number, europe...</td>\n",
       "      <td>[gardener, win, double, glasgow, britain, jaso...</td>\n",
       "      <td>211</td>\n",
       "      <td>278</td>\n",
       "    </tr>\n",
       "    <tr>\n",
       "      <th>1</th>\n",
       "      <td>rap boss arrested over drug find rap mogul mar...</td>\n",
       "      <td>amnesty chief laments war failure the lack of ...</td>\n",
       "      <td>[rap, bos, arrested, drug, find, rap, mogul, m...</td>\n",
       "      <td>[amnesty, chief, lament, war, failure, lack, p...</td>\n",
       "      <td>133</td>\n",
       "      <td>273</td>\n",
       "    </tr>\n",
       "    <tr>\n",
       "      <th>2</th>\n",
       "      <td>player burn-out worries robinson england coach...</td>\n",
       "      <td>hanks greeted at wintry premiere hollywood sta...</td>\n",
       "      <td>[player, worry, robinson, england, coach, andy...</td>\n",
       "      <td>[hank, greeted, wintry, premiere, hollywood, s...</td>\n",
       "      <td>133</td>\n",
       "      <td>131</td>\n",
       "    </tr>\n",
       "    <tr>\n",
       "      <th>3</th>\n",
       "      <td>hearts of oak 3-2 cotonsport hearts of oak set...</td>\n",
       "      <td>redford s vision of sundance despite sporting ...</td>\n",
       "      <td>[heart, oak, cotonsport, heart, oak, set, ghan...</td>\n",
       "      <td>[redford, vision, sundance, despite, sporting,...</td>\n",
       "      <td>157</td>\n",
       "      <td>257</td>\n",
       "    </tr>\n",
       "    <tr>\n",
       "      <th>4</th>\n",
       "      <td>sir paul rocks super bowl crowds sir paul mcca...</td>\n",
       "      <td>mauresmo opens with victory in la amelie maure...</td>\n",
       "      <td>[sir, paul, rock, super, bowl, crowd, sir, pau...</td>\n",
       "      <td>[mauresmo, open, victory, amelie, mauresmo, ma...</td>\n",
       "      <td>229</td>\n",
       "      <td>194</td>\n",
       "    </tr>\n",
       "    <tr>\n",
       "      <th>...</th>\n",
       "      <td>...</td>\n",
       "      <td>...</td>\n",
       "      <td>...</td>\n",
       "      <td>...</td>\n",
       "      <td>...</td>\n",
       "      <td>...</td>\n",
       "    </tr>\n",
       "    <tr>\n",
       "      <th>2995</th>\n",
       "      <td>uk directors guild nominees named martin scors...</td>\n",
       "      <td>steel firm  to cut  45 000 jobs mittal steel  ...</td>\n",
       "      <td>[director, guild, nominee, named, martin, scor...</td>\n",
       "      <td>[steel, firm, cut, job, mittal, steel, one, wo...</td>\n",
       "      <td>162</td>\n",
       "      <td>148</td>\n",
       "    </tr>\n",
       "    <tr>\n",
       "      <th>2996</th>\n",
       "      <td>u2 to play at grammy awards show irish rock ba...</td>\n",
       "      <td>israel looks to us for bank chief israel has a...</td>\n",
       "      <td>[play, grammy, award, show, irish, rock, band,...</td>\n",
       "      <td>[israel, look, bank, chief, israel, asked, ban...</td>\n",
       "      <td>112</td>\n",
       "      <td>139</td>\n",
       "    </tr>\n",
       "    <tr>\n",
       "      <th>2997</th>\n",
       "      <td>pountney handed ban and fine northampton coach...</td>\n",
       "      <td>india and iran in gas export deal india has si...</td>\n",
       "      <td>[pountney, handed, ban, fine, northampton, coa...</td>\n",
       "      <td>[india, iran, gas, export, deal, india, signed...</td>\n",
       "      <td>78</td>\n",
       "      <td>147</td>\n",
       "    </tr>\n",
       "    <tr>\n",
       "      <th>2998</th>\n",
       "      <td>belle named  best scottish band  belle &amp; sebas...</td>\n",
       "      <td>mido makes third apology ahmed  mido  hossam h...</td>\n",
       "      <td>[belle, named, best, scottish, band, belle, se...</td>\n",
       "      <td>[mido, make, third, apology, ahmed, mido, hoss...</td>\n",
       "      <td>174</td>\n",
       "      <td>192</td>\n",
       "    </tr>\n",
       "    <tr>\n",
       "      <th>2999</th>\n",
       "      <td>criminal probe on citigroup deals traders at u...</td>\n",
       "      <td>former ni minister scott dies former northern ...</td>\n",
       "      <td>[criminal, probe, citigroup, deal, trader, ban...</td>\n",
       "      <td>[former, minister, scott, dy, former, northern...</td>\n",
       "      <td>154</td>\n",
       "      <td>185</td>\n",
       "    </tr>\n",
       "  </tbody>\n",
       "</table>\n",
       "<p>3000 rows × 6 columns</p>\n",
       "</div>"
      ],
      "text/plain": [
       "                                                  text1  \\\n",
       "0     broadband challenges tv viewing the number of ...   \n",
       "1     rap boss arrested over drug find rap mogul mar...   \n",
       "2     player burn-out worries robinson england coach...   \n",
       "3     hearts of oak 3-2 cotonsport hearts of oak set...   \n",
       "4     sir paul rocks super bowl crowds sir paul mcca...   \n",
       "...                                                 ...   \n",
       "2995  uk directors guild nominees named martin scors...   \n",
       "2996  u2 to play at grammy awards show irish rock ba...   \n",
       "2997  pountney handed ban and fine northampton coach...   \n",
       "2998  belle named  best scottish band  belle & sebas...   \n",
       "2999  criminal probe on citigroup deals traders at u...   \n",
       "\n",
       "                                                  text2  \\\n",
       "0     gardener wins double in glasgow britain s jaso...   \n",
       "1     amnesty chief laments war failure the lack of ...   \n",
       "2     hanks greeted at wintry premiere hollywood sta...   \n",
       "3     redford s vision of sundance despite sporting ...   \n",
       "4     mauresmo opens with victory in la amelie maure...   \n",
       "...                                                 ...   \n",
       "2995  steel firm  to cut  45 000 jobs mittal steel  ...   \n",
       "2996  israel looks to us for bank chief israel has a...   \n",
       "2997  india and iran in gas export deal india has si...   \n",
       "2998  mido makes third apology ahmed  mido  hossam h...   \n",
       "2999  former ni minister scott dies former northern ...   \n",
       "\n",
       "                                            Token_text1  \\\n",
       "0     [broadband, challenge, viewing, number, europe...   \n",
       "1     [rap, bos, arrested, drug, find, rap, mogul, m...   \n",
       "2     [player, worry, robinson, england, coach, andy...   \n",
       "3     [heart, oak, cotonsport, heart, oak, set, ghan...   \n",
       "4     [sir, paul, rock, super, bowl, crowd, sir, pau...   \n",
       "...                                                 ...   \n",
       "2995  [director, guild, nominee, named, martin, scor...   \n",
       "2996  [play, grammy, award, show, irish, rock, band,...   \n",
       "2997  [pountney, handed, ban, fine, northampton, coa...   \n",
       "2998  [belle, named, best, scottish, band, belle, se...   \n",
       "2999  [criminal, probe, citigroup, deal, trader, ban...   \n",
       "\n",
       "                                            Token_text2  Token_len_Text1  \\\n",
       "0     [gardener, win, double, glasgow, britain, jaso...              211   \n",
       "1     [amnesty, chief, lament, war, failure, lack, p...              133   \n",
       "2     [hank, greeted, wintry, premiere, hollywood, s...              133   \n",
       "3     [redford, vision, sundance, despite, sporting,...              157   \n",
       "4     [mauresmo, open, victory, amelie, mauresmo, ma...              229   \n",
       "...                                                 ...              ...   \n",
       "2995  [steel, firm, cut, job, mittal, steel, one, wo...              162   \n",
       "2996  [israel, look, bank, chief, israel, asked, ban...              112   \n",
       "2997  [india, iran, gas, export, deal, india, signed...               78   \n",
       "2998  [mido, make, third, apology, ahmed, mido, hoss...              174   \n",
       "2999  [former, minister, scott, dy, former, northern...              154   \n",
       "\n",
       "      Token_len_Text2  \n",
       "0                 278  \n",
       "1                 273  \n",
       "2                 131  \n",
       "3                 257  \n",
       "4                 194  \n",
       "...               ...  \n",
       "2995              148  \n",
       "2996              139  \n",
       "2997              147  \n",
       "2998              192  \n",
       "2999              185  \n",
       "\n",
       "[3000 rows x 6 columns]"
      ]
     },
     "execution_count": 8,
     "metadata": {},
     "output_type": "execute_result"
    }
   ],
   "source": [
    "df['Token_len_Text1'] = df.Token_text1.apply(lambda x: len(x))\n",
    "df['Token_len_Text2'] = df.Token_text2.apply(lambda x: len(x))\n",
    "df"
   ]
  },
  {
   "cell_type": "markdown",
   "id": "74216ed4",
   "metadata": {},
   "source": [
    "### Data Visualization"
   ]
  },
  {
   "cell_type": "code",
   "execution_count": 26,
   "id": "b0e75742",
   "metadata": {},
   "outputs": [
    {
     "data": {
      "image/png": "[encoded data removed]",
      "text/plain": [
       "<Figure size 800x500 with 1 Axes>"
      ]
     },
     "metadata": {},
     "output_type": "display_data"
    }
   ],
   "source": [
    "plt.figure(figsize=(8,5))\n",
    "sns.histplot(df['Token_len_Text1'],color='Purple',bins=50)\n",
    "plt.title(\"Tokens Distributions for Text1\")\n",
    "plt.show()"
   ]
  },
  {
   "cell_type": "code",
   "execution_count": 25,
   "id": "0b16eb0e",
   "metadata": {},
   "outputs": [
    {
     "data": {
      "image/png": "[encoded data removed]",
      "text/plain": [
       "<Figure size 800x500 with 1 Axes>"
      ]
     },
     "metadata": {},
     "output_type": "display_data"
    }
   ],
   "source": [
    "plt.figure(figsize=(8,5))\n",
    "sns.histplot(df['Token_len_Text2'],color='Green', bins=50)\n",
    "plt.title(\"Tokens Distributions for Text2\")\n",
    "plt.show()"
   ]
  },
  {
   "cell_type": "code",
   "execution_count": null,
   "id": "9609eac9",
   "metadata": {},
   "outputs": [],
   "source": []
  },
  {
   "cell_type": "code",
   "execution_count": 27,
   "id": "8876941d",
   "metadata": {},
   "outputs": [
    {
     "data": {
      "text/plain": [
       "count    3000.000000\n",
       "mean      209.668667\n",
       "std       115.708065\n",
       "min        62.000000\n",
       "25%       134.000000\n",
       "50%       186.000000\n",
       "75%       261.000000\n",
       "max      1610.000000\n",
       "Name: Token_len_Text1, dtype: float64"
      ]
     },
     "execution_count": 27,
     "metadata": {},
     "output_type": "execute_result"
    }
   ],
   "source": [
    "df.Token_len_Text1.describe()"
   ]
  },
  {
   "cell_type": "code",
   "execution_count": 28,
   "id": "2124f9f9",
   "metadata": {},
   "outputs": [
    {
     "data": {
      "text/plain": [
       "count    3000.000000\n",
       "mean      211.503667\n",
       "std       133.432433\n",
       "min        47.000000\n",
       "25%       134.000000\n",
       "50%       186.000000\n",
       "75%       261.000000\n",
       "max      2160.000000\n",
       "Name: Token_len_Text2, dtype: float64"
      ]
     },
     "execution_count": 28,
     "metadata": {},
     "output_type": "execute_result"
    }
   ],
   "source": [
    "df.Token_len_Text2.describe()"
   ]
  },
  {
   "cell_type": "code",
   "execution_count": null,
   "id": "a72addef",
   "metadata": {},
   "outputs": [],
   "source": []
  },
  {
   "cell_type": "code",
   "execution_count": 29,
   "id": "1d69deae",
   "metadata": {},
   "outputs": [],
   "source": [
    "# Convert Text data into list\n",
    "final_list_text1 = df['Token_text1'].to_list()\n",
    "final_list_text2 = df['Token_text2'].to_list()"
   ]
  },
  {
   "cell_type": "code",
   "execution_count": 32,
   "id": "ef010fb2",
   "metadata": {},
   "outputs": [
    {
     "name": "stdout",
     "output_type": "stream",
     "text": [
      "3000\n",
      "3000\n"
     ]
    }
   ],
   "source": [
    "# Total Text Length\n",
    "print(len(final_list_text1))\n",
    "print(len(final_list_text2))"
   ]
  },
  {
   "cell_type": "code",
   "execution_count": 33,
   "id": "edc11fd6",
   "metadata": {},
   "outputs": [],
   "source": [
    "final_text = final_list_text1 + final_list_text2"
   ]
  },
  {
   "cell_type": "code",
   "execution_count": 34,
   "id": "814431ee",
   "metadata": {},
   "outputs": [
    {
     "data": {
      "text/plain": [
       "6000"
      ]
     },
     "execution_count": 34,
     "metadata": {},
     "output_type": "execute_result"
    }
   ],
   "source": [
    "len(final_text)"
   ]
  },
  {
   "cell_type": "code",
   "execution_count": null,
   "id": "f9ac8735",
   "metadata": {},
   "outputs": [],
   "source": []
  },
  {
   "cell_type": "markdown",
   "id": "783783c9",
   "metadata": {},
   "source": [
    "## Load Word2Vec Model"
   ]
  },
  {
   "cell_type": "code",
   "execution_count": 35,
   "id": "fecde0ba",
   "metadata": {},
   "outputs": [],
   "source": [
    "# Load Word2Vec Model\n",
    "word2vec_model = Word2Vec(final_text, window=3, min_count=2)"
   ]
  },
  {
   "cell_type": "code",
   "execution_count": 36,
   "id": "abd759b3",
   "metadata": {},
   "outputs": [
    {
     "data": {
      "text/plain": [
       "100"
      ]
     },
     "execution_count": 36,
     "metadata": {},
     "output_type": "execute_result"
    }
   ],
   "source": [
    "# Vector Size\n",
    "word2vec_model.vector_size"
   ]
  },
  {
   "cell_type": "markdown",
   "id": "01c7c82f",
   "metadata": {},
   "source": [
    "## Vector Representation of Wach Word"
   ]
  },
  {
   "cell_type": "code",
   "execution_count": 37,
   "id": "bb11b895",
   "metadata": {},
   "outputs": [
    {
     "data": {
      "text/plain": [
       "array([ 0.2560204 , -0.29279464,  1.5086288 , -0.41526222, -0.14551057,\n",
       "       -1.1771027 , -0.11134037,  0.20530303, -1.1092994 , -0.10493798,\n",
       "        0.82181877, -2.162085  , -0.8856226 , -0.54447085,  0.68457985,\n",
       "       -1.0971681 ,  0.5055037 , -1.5506512 ,  0.85933036, -0.1159007 ,\n",
       "        0.15369318, -0.7418742 ,  0.11902852,  0.25993648, -0.18258026,\n",
       "        0.32263902, -0.684035  ,  1.1230831 ,  1.1468152 ,  1.3256478 ,\n",
       "        0.28311974,  0.7904955 , -0.678     , -0.190882  ,  0.662486  ,\n",
       "        0.41343877,  1.5041443 , -0.09605668,  0.36393857, -0.94363284,\n",
       "        2.0769114 , -0.5117045 ,  1.186844  ,  1.0528741 ,  1.5664512 ,\n",
       "        0.18480477, -0.4704832 ,  1.4819287 , -0.75544673,  2.9162812 ,\n",
       "        0.42245722, -0.47020656,  1.4304447 , -0.21082611, -1.214679  ,\n",
       "        0.6187846 ,  0.07942294, -0.01563858, -0.9014622 ,  0.8593452 ,\n",
       "       -0.46687484,  1.8417063 , -0.5343594 , -0.5567653 , -0.00498231,\n",
       "        1.7224939 , -0.06855934,  1.6051656 , -0.5171766 ,  0.8150818 ,\n",
       "       -1.2484037 ,  0.71497965,  0.40761417, -1.0820079 , -0.5216544 ,\n",
       "       -0.43931013,  0.5601094 , -0.8002968 , -0.016043  ,  0.5228733 ,\n",
       "        0.57308257, -0.2774491 , -1.3781949 ,  0.42336845,  0.8366514 ,\n",
       "       -2.047485  , -0.26293606, -0.09058599, -2.292513  , -0.43263844,\n",
       "        1.3634012 , -0.5919101 , -0.4638912 , -0.51434505,  1.3825586 ,\n",
       "        1.0135448 ,  0.68498504, -0.56851506,  0.31211787,  0.2628534 ],\n",
       "      dtype=float32)"
      ]
     },
     "execution_count": 37,
     "metadata": {},
     "output_type": "execute_result"
    }
   ],
   "source": [
    "word2vec_model.wv['good']"
   ]
  },
  {
   "cell_type": "code",
   "execution_count": 38,
   "id": "2a8ceefb",
   "metadata": {},
   "outputs": [
    {
     "data": {
      "text/plain": [
       "(100,)"
      ]
     },
     "execution_count": 38,
     "metadata": {},
     "output_type": "execute_result"
    }
   ],
   "source": [
    "# Vector size is 100\n",
    "word2vec_model.wv['king'].shape"
   ]
  },
  {
   "cell_type": "code",
   "execution_count": null,
   "id": "a401b471",
   "metadata": {},
   "outputs": [],
   "source": []
  },
  {
   "cell_type": "markdown",
   "id": "1afbaf70",
   "metadata": {},
   "source": [
    "### Cosine Similarity of Word2Vec"
   ]
  },
  {
   "cell_type": "raw",
   "id": "7a7e1a83",
   "metadata": {},
   "source": [
    "Cosine Similarity:\n",
    "Cosine similarity is nothing but product of two vector divided by cross product of two vectors\n",
    "Cos= A.B/|A|x|B|"
   ]
  },
  {
   "cell_type": "code",
   "execution_count": 39,
   "id": "876fe730",
   "metadata": {},
   "outputs": [
    {
     "data": {
      "text/plain": [
       "0.6241589"
      ]
     },
     "execution_count": 39,
     "metadata": {},
     "output_type": "execute_result"
    }
   ],
   "source": [
    "# Here cosine similarity of two vector\n",
    "word2vec_model.wv.similarity(\"good\",\"bad\")"
   ]
  },
  {
   "cell_type": "code",
   "execution_count": 45,
   "id": "f92bf4a0",
   "metadata": {},
   "outputs": [
    {
     "data": {
      "text/plain": [
       "0.7931217"
      ]
     },
     "execution_count": 45,
     "metadata": {},
     "output_type": "execute_result"
    }
   ],
   "source": [
    "# Here cosine similarity of two vector\n",
    "word2vec_model.wv.similarity(\"king\",\"queen\")"
   ]
  },
  {
   "cell_type": "code",
   "execution_count": null,
   "id": "0fd2a1c0",
   "metadata": {},
   "outputs": [],
   "source": []
  },
  {
   "cell_type": "code",
   "execution_count": 43,
   "id": "ec2d44ff",
   "metadata": {},
   "outputs": [
    {
     "name": "stdout",
     "output_type": "stream",
     "text": [
      "Cosine Similarity of two word:0.6241588592529297\n"
     ]
    }
   ],
   "source": [
    "v1 = word2vec_model.wv['good'].reshape(1,-1)\n",
    "v2 = word2vec_model.wv['bad'].reshape(1,-1)\n",
    "\n",
    "print(f\"Cosine Similarity of two word:{cosine_similarity(v1,v2)[0][0]}\")"
   ]
  },
  {
   "cell_type": "code",
   "execution_count": 44,
   "id": "fde0b043",
   "metadata": {},
   "outputs": [
    {
     "name": "stdout",
     "output_type": "stream",
     "text": [
      "Cosine Similarity of two word:0.7931216359138489\n"
     ]
    }
   ],
   "source": [
    "v1 = word2vec_model.wv['king'].reshape(1,-1)\n",
    "v2 = word2vec_model.wv['queen'].reshape(1,-1)\n",
    "\n",
    "print(f\"Cosine Similarity of two word:{cosine_similarity(v1,v2)[0][0]}\")"
   ]
  },
  {
   "cell_type": "code",
   "execution_count": null,
   "id": "53b8bf56",
   "metadata": {},
   "outputs": [],
   "source": []
  },
  {
   "cell_type": "code",
   "execution_count": null,
   "id": "35a21998",
   "metadata": {},
   "outputs": [],
   "source": []
  },
  {
   "cell_type": "markdown",
   "id": "fa77f069",
   "metadata": {},
   "source": [
    "### Model Build Using word2Vec"
   ]
  },
  {
   "cell_type": "code",
   "execution_count": 46,
   "id": "1f7f9eb8",
   "metadata": {},
   "outputs": [],
   "source": [
    "def vectorizer(list_of_docs,model):\n",
    "    \n",
    "    feature =[] # save rew vector \n",
    "    for rew in list_of_docs: # iterating over reviews\n",
    "        zero_vector = np.zeros(model.vector_size) # keyerror\n",
    "        vectors =[] # to append vector of each word\n",
    "        for word in rew : # iterating over all words in a review\n",
    "            if word in model.wv: # checking if word is there in our vocab\n",
    "                try :\n",
    "                    vectors.append(model.wv[word]) # appending vector of each word\n",
    "                except KeyError:\n",
    "                    continue\n",
    "        if vectors: # if Vectors is a empty list or not \n",
    "            vectors = np.asarray(vectors) # converting multiple arrays into a single array\n",
    "            avg_vec = vectors.mean(axis=0) # avg of all vectors\n",
    "            feature.append(avg_vec) # appending the avg vector\n",
    "        else :\n",
    "            feature.append(zero_vector) # handling key error\n",
    "    return feature\n"
   ]
  },
  {
   "cell_type": "code",
   "execution_count": 47,
   "id": "d1dad748",
   "metadata": {},
   "outputs": [],
   "source": [
    "vector_text1 = vectorizer(final_list_text1,word2vec_model)\n",
    "vector_text2 = vectorizer(final_list_text2, word2vec_model)"
   ]
  },
  {
   "cell_type": "code",
   "execution_count": 51,
   "id": "815d4e6c",
   "metadata": {},
   "outputs": [
    {
     "data": {
      "text/plain": [
       "3000"
      ]
     },
     "execution_count": 51,
     "metadata": {},
     "output_type": "execute_result"
    }
   ],
   "source": [
    "len(vector_text1)"
   ]
  },
  {
   "cell_type": "code",
   "execution_count": 52,
   "id": "f93c48fc",
   "metadata": {},
   "outputs": [
    {
     "data": {
      "text/plain": [
       "array([ 7.6739579e-02,  1.2109427e-01, -4.1454333e-01,  2.7320695e-01,\n",
       "        3.9770082e-02, -7.9797393e-01,  1.4303364e-01,  1.4656943e+00,\n",
       "       -7.0767212e-01, -4.9161062e-01, -1.9070376e-01, -8.9988345e-01,\n",
       "        4.0187141e-01,  2.1616253e-01,  4.3977791e-01, -4.0433383e-01,\n",
       "        2.8682745e-01, -6.5810817e-01, -6.6701367e-02, -8.1991237e-01,\n",
       "        3.9104915e-01, -1.0395435e-02,  4.7145262e-01,  1.2774011e-01,\n",
       "        1.0103203e-02,  4.3017271e-01, -6.2191397e-01,  1.2287734e-01,\n",
       "       -3.5391250e-01,  4.1289654e-01,  3.9394435e-01, -4.6466845e-01,\n",
       "        1.6296174e-01, -4.8930445e-01,  9.8282963e-02,  2.0744152e-01,\n",
       "        2.2412683e-01, -3.8881752e-01, -1.7790824e-01, -3.2436103e-02,\n",
       "        1.1001133e-03, -5.5774164e-01,  1.5843714e-02,  1.0836299e-01,\n",
       "        4.8244965e-01, -3.7222326e-01, -4.3897602e-01, -8.7721452e-02,\n",
       "       -2.5782216e-02,  4.9442433e-02, -6.3570373e-02, -1.9524696e-01,\n",
       "       -9.8256199e-03, -1.6610169e-01, -2.8665933e-01,  7.9018705e-02,\n",
       "        5.6145352e-01,  6.9515765e-02, -2.4737488e-02,  5.4631744e-02,\n",
       "        1.5539205e-01, -3.7387508e-01, -2.8985372e-01, -1.5420908e-01,\n",
       "       -6.8021894e-01,  6.5255439e-01,  1.3175762e-01,  5.3271949e-01,\n",
       "       -5.0070804e-01,  8.1032878e-01, -3.1545454e-01,  6.0257781e-01,\n",
       "        1.9467571e-01, -3.0047098e-01, -4.6249870e-02,  5.3251714e-01,\n",
       "        2.7712858e-01, -3.4993302e-02, -4.1957232e-01,  2.9357687e-01,\n",
       "       -2.2091521e-01,  2.4946049e-01, -2.6310715e-01,  4.4090718e-01,\n",
       "       -3.5374361e-01,  1.2766616e-01, -3.6195770e-01,  1.8815792e-01,\n",
       "        8.9180861e-03,  2.6914942e-01,  2.2338690e-01, -1.0996853e-01,\n",
       "       -2.9866040e-01,  1.8131411e-01,  2.1734390e-01, -2.0611529e-01,\n",
       "        4.0161961e-01, -6.0564995e-01,  6.4830887e-01,  1.6065143e-01],\n",
       "      dtype=float32)"
      ]
     },
     "execution_count": 52,
     "metadata": {},
     "output_type": "execute_result"
    }
   ],
   "source": [
    "vector_text1[0]"
   ]
  },
  {
   "cell_type": "code",
   "execution_count": 53,
   "id": "a61f882a",
   "metadata": {},
   "outputs": [
    {
     "data": {
      "text/plain": [
       "(100,)"
      ]
     },
     "execution_count": 53,
     "metadata": {},
     "output_type": "execute_result"
    }
   ],
   "source": [
    "vector_text1[0].shape"
   ]
  },
  {
   "cell_type": "code",
   "execution_count": 48,
   "id": "476f1bd4",
   "metadata": {},
   "outputs": [],
   "source": [
    "similarity = []\n",
    "for i in range(len(vector_text1)):\n",
    "    text1 = vector_text1[i].reshape(1,-1)\n",
    "    text2 = vector_text2[i].reshape(1,-1)\n",
    "    score = cosine_similarity(text1,text2)[0][0]\n",
    "    similarity.append(score)"
   ]
  },
  {
   "cell_type": "code",
   "execution_count": 50,
   "id": "9c165599",
   "metadata": {},
   "outputs": [
    {
     "data": {
      "text/html": [
       "<div>\n",
       "<style scoped>\n",
       "    .dataframe tbody tr th:only-of-type {\n",
       "        vertical-align: middle;\n",
       "    }\n",
       "\n",
       "    .dataframe tbody tr th {\n",
       "        vertical-align: top;\n",
       "    }\n",
       "\n",
       "    .dataframe thead th {\n",
       "        text-align: right;\n",
       "    }\n",
       "</style>\n",
       "<table border=\"1\" class=\"dataframe\">\n",
       "  <thead>\n",
       "    <tr style=\"text-align: right;\">\n",
       "      <th></th>\n",
       "      <th>text1</th>\n",
       "      <th>text2</th>\n",
       "      <th>Token_text1</th>\n",
       "      <th>Token_text2</th>\n",
       "      <th>Token_len_Text1</th>\n",
       "      <th>Token_len_Text2</th>\n",
       "      <th>Cosine_Similarity</th>\n",
       "    </tr>\n",
       "  </thead>\n",
       "  <tbody>\n",
       "    <tr>\n",
       "      <th>0</th>\n",
       "      <td>broadband challenges tv viewing the number of ...</td>\n",
       "      <td>gardener wins double in glasgow britain s jaso...</td>\n",
       "      <td>[broadband, challenge, viewing, number, europe...</td>\n",
       "      <td>[gardener, win, double, glasgow, britain, jaso...</td>\n",
       "      <td>211</td>\n",
       "      <td>278</td>\n",
       "      <td>0.566142</td>\n",
       "    </tr>\n",
       "    <tr>\n",
       "      <th>1</th>\n",
       "      <td>rap boss arrested over drug find rap mogul mar...</td>\n",
       "      <td>amnesty chief laments war failure the lack of ...</td>\n",
       "      <td>[rap, bos, arrested, drug, find, rap, mogul, m...</td>\n",
       "      <td>[amnesty, chief, lament, war, failure, lack, p...</td>\n",
       "      <td>133</td>\n",
       "      <td>273</td>\n",
       "      <td>0.655384</td>\n",
       "    </tr>\n",
       "    <tr>\n",
       "      <th>2</th>\n",
       "      <td>player burn-out worries robinson england coach...</td>\n",
       "      <td>hanks greeted at wintry premiere hollywood sta...</td>\n",
       "      <td>[player, worry, robinson, england, coach, andy...</td>\n",
       "      <td>[hank, greeted, wintry, premiere, hollywood, s...</td>\n",
       "      <td>133</td>\n",
       "      <td>131</td>\n",
       "      <td>0.720679</td>\n",
       "    </tr>\n",
       "    <tr>\n",
       "      <th>3</th>\n",
       "      <td>hearts of oak 3-2 cotonsport hearts of oak set...</td>\n",
       "      <td>redford s vision of sundance despite sporting ...</td>\n",
       "      <td>[heart, oak, cotonsport, heart, oak, set, ghan...</td>\n",
       "      <td>[redford, vision, sundance, despite, sporting,...</td>\n",
       "      <td>157</td>\n",
       "      <td>257</td>\n",
       "      <td>0.668723</td>\n",
       "    </tr>\n",
       "    <tr>\n",
       "      <th>4</th>\n",
       "      <td>sir paul rocks super bowl crowds sir paul mcca...</td>\n",
       "      <td>mauresmo opens with victory in la amelie maure...</td>\n",
       "      <td>[sir, paul, rock, super, bowl, crowd, sir, pau...</td>\n",
       "      <td>[mauresmo, open, victory, amelie, mauresmo, ma...</td>\n",
       "      <td>229</td>\n",
       "      <td>194</td>\n",
       "      <td>0.813829</td>\n",
       "    </tr>\n",
       "    <tr>\n",
       "      <th>...</th>\n",
       "      <td>...</td>\n",
       "      <td>...</td>\n",
       "      <td>...</td>\n",
       "      <td>...</td>\n",
       "      <td>...</td>\n",
       "      <td>...</td>\n",
       "      <td>...</td>\n",
       "    </tr>\n",
       "    <tr>\n",
       "      <th>2995</th>\n",
       "      <td>uk directors guild nominees named martin scors...</td>\n",
       "      <td>steel firm  to cut  45 000 jobs mittal steel  ...</td>\n",
       "      <td>[director, guild, nominee, named, martin, scor...</td>\n",
       "      <td>[steel, firm, cut, job, mittal, steel, one, wo...</td>\n",
       "      <td>162</td>\n",
       "      <td>148</td>\n",
       "      <td>0.453255</td>\n",
       "    </tr>\n",
       "    <tr>\n",
       "      <th>2996</th>\n",
       "      <td>u2 to play at grammy awards show irish rock ba...</td>\n",
       "      <td>israel looks to us for bank chief israel has a...</td>\n",
       "      <td>[play, grammy, award, show, irish, rock, band,...</td>\n",
       "      <td>[israel, look, bank, chief, israel, asked, ban...</td>\n",
       "      <td>112</td>\n",
       "      <td>139</td>\n",
       "      <td>0.534584</td>\n",
       "    </tr>\n",
       "    <tr>\n",
       "      <th>2997</th>\n",
       "      <td>pountney handed ban and fine northampton coach...</td>\n",
       "      <td>india and iran in gas export deal india has si...</td>\n",
       "      <td>[pountney, handed, ban, fine, northampton, coa...</td>\n",
       "      <td>[india, iran, gas, export, deal, india, signed...</td>\n",
       "      <td>78</td>\n",
       "      <td>147</td>\n",
       "      <td>0.558960</td>\n",
       "    </tr>\n",
       "    <tr>\n",
       "      <th>2998</th>\n",
       "      <td>belle named  best scottish band  belle &amp; sebas...</td>\n",
       "      <td>mido makes third apology ahmed  mido  hossam h...</td>\n",
       "      <td>[belle, named, best, scottish, band, belle, se...</td>\n",
       "      <td>[mido, make, third, apology, ahmed, mido, hoss...</td>\n",
       "      <td>174</td>\n",
       "      <td>192</td>\n",
       "      <td>0.800890</td>\n",
       "    </tr>\n",
       "    <tr>\n",
       "      <th>2999</th>\n",
       "      <td>criminal probe on citigroup deals traders at u...</td>\n",
       "      <td>former ni minister scott dies former northern ...</td>\n",
       "      <td>[criminal, probe, citigroup, deal, trader, ban...</td>\n",
       "      <td>[former, minister, scott, dy, former, northern...</td>\n",
       "      <td>154</td>\n",
       "      <td>185</td>\n",
       "      <td>0.748286</td>\n",
       "    </tr>\n",
       "  </tbody>\n",
       "</table>\n",
       "<p>3000 rows × 7 columns</p>\n",
       "</div>"
      ],
      "text/plain": [
       "                                                  text1  \\\n",
       "0     broadband challenges tv viewing the number of ...   \n",
       "1     rap boss arrested over drug find rap mogul mar...   \n",
       "2     player burn-out worries robinson england coach...   \n",
       "3     hearts of oak 3-2 cotonsport hearts of oak set...   \n",
       "4     sir paul rocks super bowl crowds sir paul mcca...   \n",
       "...                                                 ...   \n",
       "2995  uk directors guild nominees named martin scors...   \n",
       "2996  u2 to play at grammy awards show irish rock ba...   \n",
       "2997  pountney handed ban and fine northampton coach...   \n",
       "2998  belle named  best scottish band  belle & sebas...   \n",
       "2999  criminal probe on citigroup deals traders at u...   \n",
       "\n",
       "                                                  text2  \\\n",
       "0     gardener wins double in glasgow britain s jaso...   \n",
       "1     amnesty chief laments war failure the lack of ...   \n",
       "2     hanks greeted at wintry premiere hollywood sta...   \n",
       "3     redford s vision of sundance despite sporting ...   \n",
       "4     mauresmo opens with victory in la amelie maure...   \n",
       "...                                                 ...   \n",
       "2995  steel firm  to cut  45 000 jobs mittal steel  ...   \n",
       "2996  israel looks to us for bank chief israel has a...   \n",
       "2997  india and iran in gas export deal india has si...   \n",
       "2998  mido makes third apology ahmed  mido  hossam h...   \n",
       "2999  former ni minister scott dies former northern ...   \n",
       "\n",
       "                                            Token_text1  \\\n",
       "0     [broadband, challenge, viewing, number, europe...   \n",
       "1     [rap, bos, arrested, drug, find, rap, mogul, m...   \n",
       "2     [player, worry, robinson, england, coach, andy...   \n",
       "3     [heart, oak, cotonsport, heart, oak, set, ghan...   \n",
       "4     [sir, paul, rock, super, bowl, crowd, sir, pau...   \n",
       "...                                                 ...   \n",
       "2995  [director, guild, nominee, named, martin, scor...   \n",
       "2996  [play, grammy, award, show, irish, rock, band,...   \n",
       "2997  [pountney, handed, ban, fine, northampton, coa...   \n",
       "2998  [belle, named, best, scottish, band, belle, se...   \n",
       "2999  [criminal, probe, citigroup, deal, trader, ban...   \n",
       "\n",
       "                                            Token_text2  Token_len_Text1  \\\n",
       "0     [gardener, win, double, glasgow, britain, jaso...              211   \n",
       "1     [amnesty, chief, lament, war, failure, lack, p...              133   \n",
       "2     [hank, greeted, wintry, premiere, hollywood, s...              133   \n",
       "3     [redford, vision, sundance, despite, sporting,...              157   \n",
       "4     [mauresmo, open, victory, amelie, mauresmo, ma...              229   \n",
       "...                                                 ...              ...   \n",
       "2995  [steel, firm, cut, job, mittal, steel, one, wo...              162   \n",
       "2996  [israel, look, bank, chief, israel, asked, ban...              112   \n",
       "2997  [india, iran, gas, export, deal, india, signed...               78   \n",
       "2998  [mido, make, third, apology, ahmed, mido, hoss...              174   \n",
       "2999  [former, minister, scott, dy, former, northern...              154   \n",
       "\n",
       "      Token_len_Text2  Cosine_Similarity  \n",
       "0                 278           0.566142  \n",
       "1                 273           0.655384  \n",
       "2                 131           0.720679  \n",
       "3                 257           0.668723  \n",
       "4                 194           0.813829  \n",
       "...               ...                ...  \n",
       "2995              148           0.453255  \n",
       "2996              139           0.534584  \n",
       "2997              147           0.558960  \n",
       "2998              192           0.800890  \n",
       "2999              185           0.748286  \n",
       "\n",
       "[3000 rows x 7 columns]"
      ]
     },
     "execution_count": 50,
     "metadata": {},
     "output_type": "execute_result"
    }
   ],
   "source": [
    "# Dataframe which contains similarity between two text >> value 0-1\n",
    "df['Cosine_Similarity'] = similarity\n",
    "df"
   ]
  },
  {
   "cell_type": "code",
   "execution_count": null,
   "id": "aed91254",
   "metadata": {},
   "outputs": [],
   "source": []
  },
  {
   "cell_type": "code",
   "execution_count": null,
   "id": "dc3b8ba5",
   "metadata": {},
   "outputs": [],
   "source": []
  },
  {
   "cell_type": "code",
   "execution_count": 54,
   "id": "f2d1066e",
   "metadata": {},
   "outputs": [],
   "source": [
    "# Save Word2Vec Model\n",
    "word2vec_model.save(\"word2vec_model.bin\")"
   ]
  },
  {
   "cell_type": "code",
   "execution_count": 55,
   "id": "ab01fa78",
   "metadata": {},
   "outputs": [],
   "source": [
    "# Load The Word2Vec\n",
    "model = Word2Vec.load(\"word2vec_model.bin\")"
   ]
  },
  {
   "cell_type": "code",
   "execution_count": 56,
   "id": "eec631f4",
   "metadata": {},
   "outputs": [
    {
     "data": {
      "text/plain": [
       "array([ 0.2560204 , -0.29279464,  1.5086288 , -0.41526222, -0.14551057,\n",
       "       -1.1771027 , -0.11134037,  0.20530303, -1.1092994 , -0.10493798,\n",
       "        0.82181877, -2.162085  , -0.8856226 , -0.54447085,  0.68457985,\n",
       "       -1.0971681 ,  0.5055037 , -1.5506512 ,  0.85933036, -0.1159007 ,\n",
       "        0.15369318, -0.7418742 ,  0.11902852,  0.25993648, -0.18258026,\n",
       "        0.32263902, -0.684035  ,  1.1230831 ,  1.1468152 ,  1.3256478 ,\n",
       "        0.28311974,  0.7904955 , -0.678     , -0.190882  ,  0.662486  ,\n",
       "        0.41343877,  1.5041443 , -0.09605668,  0.36393857, -0.94363284,\n",
       "        2.0769114 , -0.5117045 ,  1.186844  ,  1.0528741 ,  1.5664512 ,\n",
       "        0.18480477, -0.4704832 ,  1.4819287 , -0.75544673,  2.9162812 ,\n",
       "        0.42245722, -0.47020656,  1.4304447 , -0.21082611, -1.214679  ,\n",
       "        0.6187846 ,  0.07942294, -0.01563858, -0.9014622 ,  0.8593452 ,\n",
       "       -0.46687484,  1.8417063 , -0.5343594 , -0.5567653 , -0.00498231,\n",
       "        1.7224939 , -0.06855934,  1.6051656 , -0.5171766 ,  0.8150818 ,\n",
       "       -1.2484037 ,  0.71497965,  0.40761417, -1.0820079 , -0.5216544 ,\n",
       "       -0.43931013,  0.5601094 , -0.8002968 , -0.016043  ,  0.5228733 ,\n",
       "        0.57308257, -0.2774491 , -1.3781949 ,  0.42336845,  0.8366514 ,\n",
       "       -2.047485  , -0.26293606, -0.09058599, -2.292513  , -0.43263844,\n",
       "        1.3634012 , -0.5919101 , -0.4638912 , -0.51434505,  1.3825586 ,\n",
       "        1.0135448 ,  0.68498504, -0.56851506,  0.31211787,  0.2628534 ],\n",
       "      dtype=float32)"
      ]
     },
     "execution_count": 56,
     "metadata": {},
     "output_type": "execute_result"
    }
   ],
   "source": [
    "model.wv['good']"
   ]
  },
  {
   "cell_type": "code",
   "execution_count": null,
   "id": "9e35c975",
   "metadata": {},
   "outputs": [],
   "source": []
  },
  {
   "cell_type": "markdown",
   "id": "5aca8058",
   "metadata": {},
   "source": [
    "### Conclusion"
   ]
  },
  {
   "cell_type": "raw",
   "id": "641382ad",
   "metadata": {},
   "source": [
    "When we pass two text as input to the model our model try to find out degree of text similarity also call cosine similarity\n",
    "1 means highly similar \n",
    "0 means highly dissimilar \n",
    "\n",
    "We use Word2Vec pre-trained model, it is word embedding technique build on simple neural network. word2vec model give exact\n",
    "meaning of word. "
   ]
  },
  {
   "cell_type": "code",
   "execution_count": null,
   "id": "793a425e",
   "metadata": {},
   "outputs": [],
   "source": []
  }
 ],
 "metadata": {
  "kernelspec": {
   "display_name": "Python 3 (ipykernel)",
   "language": "python",
   "name": "python3"
  },
  "language_info": {
   "codemirror_mode": {
    "name": "ipython",
    "version": 3
   },
   "file_extension": ".py",
   "mimetype": "text/x-python",
   "name": "python",
   "nbconvert_exporter": "python",
   "pygments_lexer": "ipython3",
   "version": "3.10.6"
  }
 },
 "nbformat": 4,
 "nbformat_minor": 5
}
